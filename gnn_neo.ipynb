{
 "cells": [
  {
   "cell_type": "code",
   "execution_count": 6,
   "metadata": {},
   "outputs": [],
   "source": [
    "import torch\n",
    "from torch_geometric.data import Data\n",
    "from torch_geometric.nn import GCNConv\n",
    "from sklearn.metrics import accuracy_score\n",
    "from neo4j import GraphDatabase"
   ]
  },
  {
   "cell_type": "code",
   "execution_count": 7,
   "metadata": {},
   "outputs": [],
   "source": [
    "# 连接到Neo4j数据库\n",
    "class Neo4jGraph:\n",
    "    def __init__(self, uri, user, pwd, db_name):\n",
    "        self._driver = GraphDatabase.driver(uri, auth=(user, pwd), database=db_name)\n",
    "\n",
    "    def close(self):\n",
    "        self._driver.close()\n",
    "\n",
    "    def query(self, query):\n",
    "        with self._driver.session() as session:\n",
    "            result = session.run(query)\n",
    "            return [record for record in result]"
   ]
  },
  {
   "cell_type": "code",
   "execution_count": 8,
   "metadata": {},
   "outputs": [],
   "source": [
    "uri = \"bolt://localhost:7687\"\n",
    "user = \"neo4j\"\n",
    "pwd = \"1742359208ys\"\n",
    "db_name = \"neo4j\"\n",
    "\n",
    "# 创建Neo4jGraph实例\n",
    "neo4j_graph = Neo4jGraph(uri, user, pwd, db_name)"
   ]
  },
  {
   "cell_type": "code",
   "execution_count": 25,
   "metadata": {},
   "outputs": [
    {
     "name": "stdout",
     "output_type": "stream",
     "text": [
      "Fno:{1609868.0: {'id': 1609868.0, 'time': 35.0, 'waterPressure': 23.0, 'waterFlow': 77.0, 'strikePressure': 146.0, 'velocity': 3.429, 'rotationPressure': 57.0, 'rotationVelocity': 0.0, 'propelPressure': 60.0, 'depth': 0.384}, 1609988.0: {'id': 1609988.0, 'time': 207.0, 'waterPressure': 28.0, 'waterFlow': 77.0, 'strikePressure': 85.0, 'velocity': 0.58, 'rotationPressure': 31.0, 'rotationVelocity': 0.0, 'propelPressure': 18.0, 'depth': 0.302}, 1609989.0: {'id': 1609989.0, 'time': 207.0, 'waterPressure': 23.0, 'waterFlow': 74.0, 'strikePressure': 94.0, 'velocity': 0.58, 'rotationPressure': 33.0, 'rotationVelocity': 0.0, 'propelPressure': 18.0, 'depth': 0.322}, 1609990.0: {'id': 1609990.0, 'time': 188.0, 'waterPressure': 23.0, 'waterFlow': 73.0, 'strikePressure': 91.0, 'velocity': 0.638, 'rotationPressure': 30.0, 'rotationVelocity': 0.0, 'propelPressure': 19.0, 'depth': 0.342}, 1609991.0: {'id': 1609991.0, 'time': 203.0, 'waterPressure': 23.0, 'waterFlow': 73.0, 'strikePressure': 96.0, 'velocity': 0.591, 'rotationPressure': 32.0, 'rotationVelocity': 0.0, 'propelPressure': 18.0, 'depth': 0.362}, 1609992.0: {'id': 1609992.0, 'time': 190.0, 'waterPressure': 23.0, 'waterFlow': 73.0, 'strikePressure': 86.0, 'velocity': 0.632, 'rotationPressure': 31.0, 'rotationVelocity': 0.0, 'propelPressure': 18.0, 'depth': 0.382}, 1610152.0: {'id': 1610152.0, 'time': 34.0, 'waterPressure': 23.0, 'waterFlow': 88.0, 'strikePressure': 151.0, 'velocity': 3.529, 'rotationPressure': 42.0, 'rotationVelocity': 0.0, 'propelPressure': 54.0, 'depth': 0.304}, 1610153.0: {'id': 1610153.0, 'time': 34.0, 'waterPressure': 23.0, 'waterFlow': 88.0, 'strikePressure': 150.0, 'velocity': 3.529, 'rotationPressure': 44.0, 'rotationVelocity': 0.0, 'propelPressure': 54.0, 'depth': 0.324}}\n",
      "torch.Size([8, 10])\n",
      "tensor([[1609868, 1609868, 1609868, 1609868, 1609868, 1609868, 1609868, 1609992,\n",
      "         1609991, 1609990, 1609989, 1609988, 1609992, 1609991, 1609990, 1609989,\n",
      "         1609988, 1609992, 1609991, 1609990, 1609989, 1609988, 1610153, 1610152,\n",
      "         1610153, 1610152, 1610153, 1610152, 1610153, 1610152, 1610153, 1610152,\n",
      "         1610153, 1610152],\n",
      "        [1609992, 1609991, 1609990, 1609989, 1609988, 1610153, 1610152, 1609868,\n",
      "         1609868, 1609868, 1609868, 1609868, 1610153, 1610153, 1610153, 1610153,\n",
      "         1610153, 1610152, 1610152, 1610152, 1610152, 1610152, 1609868, 1609868,\n",
      "         1609992, 1609992, 1609991, 1609991, 1609990, 1609990, 1609989, 1609989,\n",
      "         1609988, 1609988]])\n"
     ]
    },
    {
     "name": "stderr",
     "output_type": "stream",
     "text": [
      "C:\\Users\\LENOVO\\AppData\\Local\\Temp\\ipykernel_19844\\3973298065.py:47: DeprecationWarning: an integer is required (got type float).  Implicit conversion to integers using __int__ is deprecated, and may be removed in a future version of Python.\n",
      "  edge_index = torch.tensor([edge[:2] for edge in edges], dtype=torch.long).t().contiguous()\n"
     ]
    }
   ],
   "source": [
    "def extract_graph_data_from_neo4j(neo4j_graph, node_query, feature_node_query, edge_query):\n",
    "    # 查询Hole节点\n",
    "    hole_nodes_result = neo4j_graph.query(node_query)\n",
    "    # 查询特征节点\n",
    "    feature_nodes_result = neo4j_graph.query(feature_node_query)\n",
    "    # 查询边，确保返回节点的ID\n",
    "    edges_result = neo4j_graph.query(edge_query)\n",
    "    feature_nodes = {}\n",
    "\n",
    "    # 创建特征节点字典\n",
    "    # for node in feature_nodes_result:\n",
    "    #     new_props = {k: v for k, v in node['properties'].items() if k != 'id'}\n",
    "    #     feature_nodes[node['id']] = new_props\n",
    "    feature_nodes = {node['id']: node['properties'] for node in feature_nodes_result}\n",
    "\n",
    "    print(f\"Fno:{feature_nodes}\")\n",
    "\n",
    "    # 创建边列表，只包含起点和终点的ID\n",
    "    edges = []\n",
    "    for edge in edges_result:\n",
    "        start_node = edge['startNodeElementId']\n",
    "        end_node = edge['endNodeElementId']\n",
    "        # 检查节点是否存在，并获取ID\n",
    "        # if start_node is not None and 'id' in start_node:\n",
    "        if start_node is not None:\n",
    "            # start_node_id = start_node['id']\n",
    "            start_node_id = start_node\n",
    "        else:\n",
    "            start_node_id = None  # 或者选择一个合适的默认值或占位符\n",
    "\n",
    "        # if end_node is not None and 'id' in end_node:\n",
    "        if end_node is not None:\n",
    "            # end_node_id = end_node['id']\n",
    "            end_node_id = end_node\n",
    "        else:\n",
    "            end_node_id = None  # 或者选择一个合适的默认值或占位符\n",
    "\n",
    "        edges.append((start_node_id, end_node_id))\n",
    "\n",
    "    # 过滤掉None的边\n",
    "    edges = [edge for edge in edges if edge[0] is not None and edge[1] is not None]\n",
    "\n",
    "    # 创建特征矩阵x\n",
    "    x = torch.tensor([list(features.values()) for features in feature_nodes.values()], dtype=torch.float)\n",
    "    \n",
    "    # 创建边索引edge_index\n",
    "    edge_index = torch.tensor([edge[:2] for edge in edges], dtype=torch.long).t().contiguous()\n",
    "\n",
    "    # 创建Data对象，只包含x和edge_index\n",
    "    data = Data(x=x, edge_index=edge_index)\n",
    "\n",
    "    return data\n",
    "\n",
    "# 其余代码保持不变...\n",
    "\n",
    "# 定义查询语句\n",
    "node_query = \"MATCH (n:Hole) RETURN n.hole_id AS id, properties(n) AS properties\"\n",
    "feature_node_query = \"MATCH (n:III) RETURN n.id AS id, properties(n) AS properties\"\n",
    "\n",
    "edge_query = \"\"\"\n",
    "MATCH path = (n:III)<-[:HAS_FEATURE]-(h1:Hole)-[:CONNECTED]->(h2:Hole)-[:HAS_FEATURE]->(m:III)\n",
    "WHERE n.id <> m.id AND NOT (n)-[:HAS_FEATURE*0..1]->(m) // 确保n和m不是直接相连\n",
    "RETURN n.id AS startNodeElementId, m.id AS endNodeElementId\n",
    "\"\"\"\n",
    "# MATCH (n:III)<-[:HAS_FEATURE]-(h1:Hole)->[:CONNECTED]-(h2:Hole)-[:HAS_FEATURE]->(m:III)\n",
    "\n",
    "# 提取图数据\n",
    "data = extract_graph_data_from_neo4j(neo4j_graph, node_query, feature_node_query, edge_query)\n",
    "\n",
    "# 输出Data对象的内容\n",
    "print(data.x.shape)  # 输出特征矩阵\n",
    "print(data.edge_index)  # 输出边索引\n",
    "# print(data.edge_attr)  # 这行被注释掉了，因为我们不再使用边权重"
   ]
  },
  {
   "cell_type": "code",
   "execution_count": null,
   "metadata": {},
   "outputs": [],
   "source": []
  }
 ],
 "metadata": {
  "kernelspec": {
   "display_name": "Python 3",
   "language": "python",
   "name": "python3"
  },
  "language_info": {
   "codemirror_mode": {
    "name": "ipython",
    "version": 3
   },
   "file_extension": ".py",
   "mimetype": "text/x-python",
   "name": "python",
   "nbconvert_exporter": "python",
   "pygments_lexer": "ipython3",
   "version": "3.9.7"
  }
 },
 "nbformat": 4,
 "nbformat_minor": 2
}
